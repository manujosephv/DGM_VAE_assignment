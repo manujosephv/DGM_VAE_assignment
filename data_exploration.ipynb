{
 "cells": [
  {
   "cell_type": "code",
   "execution_count": 2,
   "metadata": {},
   "outputs": [],
   "source": [
    "from matplotlib import pyplot as plt\n",
    "import numpy as np\n",
    "# import seaborn as sns"
   ]
  },
  {
   "cell_type": "code",
   "execution_count": 3,
   "metadata": {},
   "outputs": [
    {
     "name": "stdout",
     "output_type": "stream",
     "text": [
      "Keys in the dataset: ['metadata', 'imgs', 'latents_classes', 'latents_values']\n"
     ]
    }
   ],
   "source": [
    "# Load dataset\n",
    "dataset_zip = np.load('dsprites-dataset/dsprites_ndarray_co1sh3sc6or40x32y32_64x64.npz', allow_pickle=True, encoding='latin1')\n",
    "\n",
    "print('Keys in the dataset:', list(dataset_zip.keys()))"
   ]
  },
  {
   "cell_type": "code",
   "execution_count": 46,
   "metadata": {},
   "outputs": [],
   "source": [
    "idx = 737279"
   ]
  },
  {
   "cell_type": "code",
   "execution_count": 47,
   "metadata": {},
   "outputs": [
    {
     "name": "stdout",
     "output_type": "stream",
     "text": [
      "color 1.0\n",
      "shape 3.0\n",
      "scale 1.0\n",
      "orientation 6.283185307179586\n",
      "posX 1.0\n",
      "posY 1.0\n"
     ]
    },
    {
     "data": {
      "text/plain": [
       "<matplotlib.image.AxesImage at 0x1320a1870>"
      ]
     },
     "execution_count": 47,
     "metadata": {},
     "output_type": "execute_result"
    },
    {
     "data": {
      "image/png": "[encoded data removed]",
      "text/plain": [
       "<Figure size 640x480 with 1 Axes>"
      ]
     },
     "metadata": {},
     "output_type": "display_data"
    }
   ],
   "source": [
    "# print(dataset_zip['latents_values'][idx])\n",
    "# print(dataset_zip['latents_classes'][idx])\n",
    "for name, value in zip(dataset_zip['metadata'][()]['latents_names'], dataset_zip['latents_values'][idx]):\n",
    "    print(name, value)\n",
    "#plot image\n",
    "img = dataset_zip[\"imgs\"][idx]\n",
    "plt.imshow(img, cmap='gray')"
   ]
  },
  {
   "cell_type": "code",
   "execution_count": 12,
   "metadata": {},
   "outputs": [
    {
     "data": {
      "text/plain": [
       "array([0, 0, 0, 0, 0, 0])"
      ]
     },
     "execution_count": 12,
     "metadata": {},
     "output_type": "execute_result"
    }
   ],
   "source": []
  },
  {
   "cell_type": "code",
   "execution_count": 15,
   "metadata": {},
   "outputs": [
    {
     "data": {
      "text/plain": [
       "<matplotlib.image.AxesImage at 0x123c3a380>"
      ]
     },
     "execution_count": 15,
     "metadata": {},
     "output_type": "execute_result"
    },
    {
     "data": {
      "image/png": "[encoded data removed]",
      "text/plain": [
       "<Figure size 640x480 with 1 Axes>"
      ]
     },
     "metadata": {},
     "output_type": "display_data"
    }
   ],
   "source": []
  },
  {
   "cell_type": "code",
   "execution_count": 6,
   "metadata": {},
   "outputs": [],
   "source": [
    "metadata = dataset_zip['metadata'][()]"
   ]
  },
  {
   "cell_type": "code",
   "execution_count": 7,
   "metadata": {},
   "outputs": [
    {
     "data": {
      "text/plain": [
       "dict_keys(['date', 'description', 'version', 'latents_names', 'latents_possible_values', 'latents_sizes', 'author', 'title'])"
      ]
     },
     "execution_count": 7,
     "metadata": {},
     "output_type": "execute_result"
    }
   ],
   "source": [
    "metadata.keys()"
   ]
  },
  {
   "cell_type": "code",
   "execution_count": 9,
   "metadata": {},
   "outputs": [
    {
     "data": {
      "text/plain": [
       "('color', 'shape', 'scale', 'orientation', 'posX', 'posY')"
      ]
     },
     "execution_count": 9,
     "metadata": {},
     "output_type": "execute_result"
    }
   ],
   "source": [
    "metadata['latents_names']"
   ]
  },
  {
   "cell_type": "code",
   "execution_count": 23,
   "metadata": {},
   "outputs": [
    {
     "data": {
      "text/plain": [
       "array([ 1,  3,  6, 40, 32, 32], dtype=int64)"
      ]
     },
     "execution_count": 23,
     "metadata": {},
     "output_type": "execute_result"
    }
   ],
   "source": [
    "metadata['latents_sizes']"
   ]
  },
  {
   "cell_type": "code",
   "execution_count": 24,
   "metadata": {},
   "outputs": [
    {
     "ename": "KeyError",
     "evalue": "'latents_bases'",
     "output_type": "error",
     "traceback": [
      "\u001b[1;31m---------------------------------------------------------------------------\u001b[0m",
      "\u001b[1;31mKeyError\u001b[0m                                  Traceback (most recent call last)",
      "Cell \u001b[1;32mIn[24], line 1\u001b[0m\n\u001b[1;32m----> 1\u001b[0m metadata[\u001b[39m'\u001b[39;49m\u001b[39mlatents_bases\u001b[39;49m\u001b[39m'\u001b[39;49m]\n",
      "\u001b[1;31mKeyError\u001b[0m: 'latents_bases'"
     ]
    }
   ],
   "source": [
    "def disentanglement_metric_score(D, K, L):\n",
    "    # D = {X, V, W} dataset\n",
    "    # K = number of factors\n",
    "    # L = number of samples\n",
    "    \n",
    "    # Choose a factor y ∼ Unif[1...K]\n",
    "    y = np.random.randint(1, K+1)\n",
    "    \n",
    "    # For a batch of L samples:\n",
    "    z_diff = []\n",
    "    for l in range(L):\n",
    "        # Sample two sets of latent representations v1,l and v2,l\n",
    "        v1_l = torch.randn(K)\n",
    "        v2_l = torch.randn(K)\n",
    "        \n",
    "        # Enforce [v1,l]k = [v2,l]k if k = y (so that the value of factor k = y is kept fixed)\n",
    "        v1_l[y-1] = v2_l[y-1]\n",
    "        \n",
    "        # Simulate image x1,l ∼ Sim(v1,l), then infer z1,l = µ(x1,l), using the encoder q(z|x) ∼ N (µ(x), σ(x))\n",
    "        x1_l = Sim(v1_l)\n",
    "        z1_l = encoder(x1_l)\n",
    "        \n",
    "        # Repeat the process for v2,l\n",
    "        x2_l = Sim(v2_l)\n",
    "        z2_l = encoder(x2_l)\n",
    "        \n",
    "        # Compute the difference z_diff[l] = |z1,l − z2,l|, the absolute linear difference between the inferred latent representations\n",
    "        z_diff.append(torch.abs(z1_l - z2_l))\n",
    "    \n",
    "    # Use the average z_diff to predict p(y|z_diff) and report the accuracy of this predictor as disentangement metric score\n",
    "    z_diff_avg = torch.mean(torch.stack(z_diff))\n",
    "    return predict_y(z_diff_avg)"
   ]
  }
 ],
 "metadata": {
  "kernelspec": {
   "display_name": "cv",
   "language": "python",
   "name": "python3"
  },
  "language_info": {
   "codemirror_mode": {
    "name": "ipython",
    "version": 3
   },
   "file_extension": ".py",
   "mimetype": "text/x-python",
   "name": "python",
   "nbconvert_exporter": "python",
   "pygments_lexer": "ipython3",
   "version": "3.10.9"
  },
  "orig_nbformat": 4
 },
 "nbformat": 4,
 "nbformat_minor": 2
}
